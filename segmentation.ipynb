{
 "cells": [
  {
   "cell_type": "code",
   "execution_count": 3,
   "metadata": {},
   "outputs": [],
   "source": [
    "import cv2 as cv\n",
    "import numpy as np\n",
    "import matplotlib.pyplot as plt\n",
    "import imutils\n",
    "import os"
   ]
  },
  {
   "cell_type": "code",
   "execution_count": 4,
   "metadata": {},
   "outputs": [],
   "source": [
    "class Image:\n",
    "    def __init__(self, img_name):\n",
    "        self.img = cv.imread(img_name)\n",
    "        self.__name = img_name\n",
    "        \n",
    "    def __str__(self):\n",
    "        return self.__name"
   ]
  },
  {
   "cell_type": "code",
   "execution_count": 4,
   "metadata": {},
   "outputs": [],
   "source": [
    "def rename_images(directory_origin, directory_dest):\n",
    "    if not (os.path.isdir(directory_dest)):\n",
    "        os.mkdir(directory_dest)\n",
    "    for i, filename in enumerate(os.listdir(directory_origin)):\n",
    "        f = os.path.join(directory_origin, filename)\n",
    "        if os.path.isfile(f):\n",
    "            image = cv.imread(f)\n",
    "            image = imutils.resize(image, width=256)\n",
    "            name_save = os.path.join(directory_dest, '{}.jpg'.format(i))\n",
    "            cv.imwrite(name_save, image)"
   ]
  },
  {
   "cell_type": "code",
   "execution_count": 6,
   "metadata": {},
   "outputs": [],
   "source": [
    "# Resizing and renaming improper env images\n",
    "# rename_images('raw-images/improper-env/', 'processed-images/resized-improper')"
   ]
  },
  {
   "cell_type": "code",
   "execution_count": 7,
   "metadata": {},
   "outputs": [],
   "source": [
    "# Resizing and renaming proper env images\n",
    "# rename_images('raw-images/proper-env/', 'processed-images/resized-proper')"
   ]
  },
  {
   "cell_type": "code",
   "execution_count": 15,
   "metadata": {},
   "outputs": [],
   "source": [
    "def equalize(directory_origin, directory_dest):\n",
    "    if not (os.path.isdir(directory_dest)):\n",
    "        os.mkdir(directory_dest)\n",
    "    for i, filename in enumerate(os.listdir(directory_origin)):\n",
    "        f = os.path.join(directory_origin, filename)\n",
    "        if os.path.isfile(f):\n",
    "            img_array = cv.imread(f)\n",
    "            img_array = cv.resize(img_array, (256, 256))\n",
    "            ycrcb_img = cv.cvtColor(img_array, cv.COLOR_BGR2YCrCb)\n",
    "            ycrcb_img[:, :, 0] = cv.equalizeHist(ycrcb_img[:, :, 0])\n",
    "            equalized_img = cv.cvtColor(ycrcb_img, cv.COLOR_YCrCb2BGR)\n",
    "            name_save = os.path.join(directory_dest, '{}.jpg'.format(i))\n",
    "            cv.imwrite(name_save, equalized_img)"
   ]
  },
  {
   "cell_type": "code",
   "execution_count": 16,
   "metadata": {},
   "outputs": [],
   "source": [
    "# Equalizing proper images\n",
    "#equalize('processed-images/resized-proper/', 'processed-images/equalized-proper')"
   ]
  },
  {
   "cell_type": "code",
   "execution_count": 7,
   "metadata": {},
   "outputs": [],
   "source": [
    "# Equalizing improper images\n",
    "# equalize('processed-images/resized-improper/', 'processed-images/equalized-improper')"
   ]
  },
  {
   "cell_type": "code",
   "execution_count": 25,
   "metadata": {},
   "outputs": [],
   "source": [
    "def create_masks(directory_origin, directory_dest):\n",
    "    if not (os.path.isdir(directory_dest)):\n",
    "        os.mkdir(directory_dest)\n",
    "    for i, filename in enumerate(os.listdir(directory_origin)):\n",
    "        f = os.path.join(directory_origin, filename)\n",
    "        if os.path.isfile(f):\n",
    "            x = str(Image(f))\n",
    "            name = x.split(\"/\")[2]\n",
    "            image = cv.imread(f)\n",
    "            image = imutils.resize(image, width=256)\n",
    "            hsv = cv.cvtColor(image, cv.COLOR_BGR2HSV)\n",
    "            lower = np.array([0, 42, 0])\n",
    "            upper = np.array([179, 255, 255])\n",
    "            mask = cv.inRange(hsv, lower, upper)\n",
    "\n",
    "            # Remove ruído\n",
    "            kernel = cv.getStructuringElement(cv.MORPH_RECT, (3,3))\n",
    "            opening = cv.morphologyEx(mask, cv.MORPH_OPEN, kernel, iterations=5)\n",
    "            smooth_kernel = cv.getStructuringElement(cv.MORPH_ELLIPSE, (3,3))\n",
    "            opening = cv.morphologyEx(opening, cv.MORPH_OPEN, smooth_kernel, iterations=9)\n",
    "           # result = cv.bitwise_and(image, image, mask=opening)\n",
    "            name_save = os.path.join(directory_dest, name)\n",
    "            cv.imwrite(name_save, opening)"
   ]
  },
  {
   "cell_type": "code",
   "execution_count": 55,
   "metadata": {},
   "outputs": [],
   "source": [
    "# creating maks for proper environment\n",
    "# create_masks('processed-images/resized-proper/', 'processed-images/mask-proper-resized')"
   ]
  },
  {
   "cell_type": "code",
   "execution_count": 26,
   "metadata": {},
   "outputs": [],
   "source": [
    "# creating maks for proper environment\n",
    "create_masks('processed-images/resized-improper/', 'processed-images/mask-improper-resized')"
   ]
  },
  {
   "cell_type": "code",
   "execution_count": 26,
   "metadata": {},
   "outputs": [],
   "source": [
    "# creating masks for equalized images\n",
    "# proper\n",
    "create_masks('processed-images/equalized-proper/', 'processed-images/mask-proper-equalized')"
   ]
  },
  {
   "cell_type": "code",
   "execution_count": 10,
   "metadata": {},
   "outputs": [],
   "source": [
    "# creating masks for equalized images\n",
    "# improper\n",
    "create_masks('processed-images/equalized-improper/', 'processed-images/mask-improper-equalized')"
   ]
  },
  {
   "cell_type": "code",
   "execution_count": 9,
   "metadata": {},
   "outputs": [],
   "source": [
    "def create_null_masks(directory_origin, directory_dest):\n",
    "    if not (os.path.isdir(directory_dest)):\n",
    "        os.mkdir(directory_dest)\n",
    "    for i, filename in enumerate(os.listdir(directory_origin)):\n",
    "        f = os.path.join(directory_origin, filename)\n",
    "        if os.path.isfile(f):\n",
    "            x = str(Image(f))\n",
    "            name = x.split(\"/\")[2]\n",
    "            image = cv.imread(f)\n",
    "            image = imutils.resize(image, width=256)\n",
    "            mask = np.zeros(image.shape[:2], dtype = \"uint8\")\n",
    "            name_save = os.path.join(directory_dest, name)\n",
    "            cv.imwrite(name_save, mask)"
   ]
  },
  {
   "cell_type": "code",
   "execution_count": 57,
   "metadata": {},
   "outputs": [],
   "source": [
    "# creating null masks for improper environment\n",
    "# not used anymore\n",
    "#create_null_masks('processed-images/resized-improper/', 'processed-images/mask-improper-resized')"
   ]
  },
  {
   "cell_type": "code",
   "execution_count": 19,
   "metadata": {},
   "outputs": [],
   "source": [
    "def gather_images(directory_origin1, directory_origin2, directory_dest):\n",
    "    aux = 0\n",
    "    if not (os.path.isdir(directory_dest)):\n",
    "        os.mkdir(directory_dest)\n",
    "    for i, filename in enumerate(os.listdir(directory_origin1)):\n",
    "        f = os.path.join(directory_origin1, filename)\n",
    "        aux = i\n",
    "        if os.path.isfile(f):\n",
    "            x = str(Image(f))\n",
    "            name = x.split(\"/\")[2]\n",
    "            y = (str(i), \"jpg\")\n",
    "            name = \".\".join(y)\n",
    "            image = plt.imread(f)\n",
    "            name_save = os.path.join(directory_dest, name)\n",
    "            plt.imsave(name_save, image)\n",
    "    for i, filename in enumerate(os.listdir(directory_origin2)):\n",
    "        f = os.path.join(directory_origin2, filename)\n",
    "        aux += 1\n",
    "        if os.path.isfile(f):\n",
    "            x = str(Image(f))\n",
    "            name = x.split(\"/\")[2]\n",
    "            y = (str(aux), \"jpg\")\n",
    "            name = \".\".join(y)\n",
    "            image = plt.imread(f)\n",
    "            name_save = os.path.join(directory_dest, name)\n",
    "            plt.imsave(name_save, image)    "
   ]
  },
  {
   "cell_type": "code",
   "execution_count": 28,
   "metadata": {},
   "outputs": [],
   "source": [
    "def gather_masks(directory_origin1, directory_origin2, directory_dest):\n",
    "    aux = 0\n",
    "    if not (os.path.isdir(directory_dest)):\n",
    "        os.mkdir(directory_dest)\n",
    "    for i, filename in enumerate(os.listdir(directory_origin1)):\n",
    "        f = os.path.join(directory_origin1, filename)\n",
    "        aux = i\n",
    "        if os.path.isfile(f):\n",
    "            x = str(Image(f))\n",
    "            name = x.split(\"/\")[2]\n",
    "            y = (str(i), \"jpg\")\n",
    "            name = \".\".join(y)\n",
    "            image = plt.imread(f)\n",
    "            name_save = os.path.join(directory_dest, name)\n",
    "            cv.imwrite(name_save, image)\n",
    "    for i, filename in enumerate(os.listdir(directory_origin2)):\n",
    "        f = os.path.join(directory_origin2, filename)\n",
    "        aux += 1\n",
    "        if os.path.isfile(f):\n",
    "            x = str(Image(f))\n",
    "            name = x.split(\"/\")[2]\n",
    "            y = (str(aux), \"jpg\")\n",
    "            name = \".\".join(y)\n",
    "            image = plt.imread(f)\n",
    "            name_save = os.path.join(directory_dest, name)\n",
    "            cv.imwrite(name_save, image)    "
   ]
  },
  {
   "cell_type": "code",
   "execution_count": 20,
   "metadata": {},
   "outputs": [],
   "source": [
    "# Gathering all equalized images\n",
    "gather_images('processed-images/equalized-proper/', 'processed-images/equalized-improper/', 'processed-images/equalized-all/')"
   ]
  },
  {
   "cell_type": "code",
   "execution_count": 21,
   "metadata": {},
   "outputs": [],
   "source": [
    "# Gathering all resized images\n",
    "gather_images('processed-images/resized-proper/', 'processed-images/resized-improper/', 'processed-images/resized-all/')"
   ]
  },
  {
   "cell_type": "code",
   "execution_count": 22,
   "metadata": {},
   "outputs": [],
   "source": [
    "# Gathering all masks from equalized images\n",
    "gather_masks('processed-images/mask-proper-equalized/', 'processed-images/mask-improper-equalized/', 'processed-images/mask-equalized-all/')"
   ]
  },
  {
   "cell_type": "code",
   "execution_count": 27,
   "metadata": {},
   "outputs": [],
   "source": [
    "# Gathering all masks from resized images\n",
    "gather_masks('processed-images/mask-proper-resized/', 'processed-images/mask-improper-resized/', 'processed-images/mask-resized-all/')"
   ]
  },
  {
   "cell_type": "code",
   "execution_count": 6,
   "metadata": {},
   "outputs": [
    {
     "name": "stdout",
     "output_type": "stream",
     "text": [
      "=^.^= =^.^= =^.^= =^.^= =^.^= =^.^= =^.^= =^.^= =^.^= =^.^= =^.^= =^.^= \n"
     ]
    }
   ],
   "source": [
    "print('=^.^= '*12)"
   ]
  }
 ],
 "metadata": {
  "kernelspec": {
   "display_name": "Python 3.10.6 ('myenv')",
   "language": "python",
   "name": "python3"
  },
  "language_info": {
   "codemirror_mode": {
    "name": "ipython",
    "version": 3
   },
   "file_extension": ".py",
   "mimetype": "text/x-python",
   "name": "python",
   "nbconvert_exporter": "python",
   "pygments_lexer": "ipython3",
   "version": "3.10.6"
  },
  "orig_nbformat": 4,
  "vscode": {
   "interpreter": {
    "hash": "0a21415c8a67d5b66050f88b6afeb5465c945f9f137974b9820a6402b7e87e3d"
   }
  }
 },
 "nbformat": 4,
 "nbformat_minor": 2
}
